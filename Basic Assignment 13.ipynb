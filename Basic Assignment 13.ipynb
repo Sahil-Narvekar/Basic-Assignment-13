{
 "cells": [
  {
   "cell_type": "code",
   "execution_count": null,
   "metadata": {},
   "outputs": [],
   "source": [
    "1. What advantages do Excel spreadsheets have over CSV spreadsheets?\n",
    "\n",
    "Excel is a binary file format that holds information for all workbooks and it is used in all worksheets.\n",
    "CSV is in plain text format information with is a series of values contained in a sheet and is separated \n",
    "by Commas. CSV is a text which is full of information and is less compatible against excel.\n",
    "\n",
    "Excel is not a measure of a store of information only but also it is a tool  to perform a deep analysis \n",
    "of data and numbers. CSV is only a plain text form of data set which does not enable the user to perform \n",
    "any deep-dive analysis on the data set and apply functions.\n",
    "\n",
    " Excel file can be password protected.\t CSV file cannot be password protected.\n",
    "\n",
    "Reading large data set is much easier for the end-user to read, comprehend and understand when compared \n",
    "to CSV.\n",
    "\n",
    "Excel can perform VBA Coding, functions, formulas and create summaries easily when compared to CSV.\n",
    "\n",
    "Excel also provides the user option for external linking of data from other sources and also the user \n",
    "can do custom add-ins which is not available in CSV.\n"
   ]
  },
  {
   "cell_type": "code",
   "execution_count": null,
   "metadata": {},
   "outputs": [],
   "source": [
    "2. To construct reader and writer artefacts, what do you pass to csv.reader() and csv.writer()?\n",
    "csv.reader(csvfile)\n",
    "Return a reader object which will iterate over lines in the given csvfile."
   ]
  },
  {
   "cell_type": "code",
   "execution_count": 31,
   "metadata": {},
   "outputs": [
    {
     "name": "stdout",
     "output_type": "stream",
     "text": [
      "1,5,8,4,7,4,3,4,4,7,5,5,3,5,4,5,6,3,4,7,3,4,3,4,4,4,8,4,6,4,3,5,7,4,5,5,4,3,5,5,3,6,8,3,7,4,5,3,3,3,5,4,5,7,6,4,3,4,3,5,5,3,3,4,3,5,3,5,5,4,3,5,5,5,3,3,5,3,4,4,3,3,4,4,4,4,7,5,5,6,3,3,4,5,5,3,4,5,6,7,3,3,4,4,4,4,3,4,4,3,3,4,3,4,3,3,5,3,5,6,5,5,5,3,3,4,3,3,5,4,3,3,5,8,6,6,4,4,4,4,4,4,4,8,3,4,5,5,6,6,5,5,5,4,6,5,5,4,4,3,5,4,8,4,3,4,6,5,6,5,3,5,3,4,6,4,4,4,5,3,3,5,4,5,4,4,4,6,7,3,3,3,3,5,4,7,4,3,5,4,5,5,4,4,3,5,4,4,4,4,3,4,5,5,4,3,3,4,4,3,4,5,4,4,3,4,6,5,6,4,3,6,4,4,4,6,5,3,5,4,5,3,4,5,6,3,4,5,4,4,4,4,6,4,5,5,6,5,3,4,4,3,5,3,3,3,4,4,4,7,4,3,4,5,5,4,4,4,4,3,6,3,5,4,5,4,3,4,3,3,3,4,6,5,3,3,5,3,5,3,8,6,3,5,4,6,5,3,15,4,5,4,8,5,3,4,4,5,3,4,7,4,3,4,7,6,5,4,5,7,4,3,3,5,5,7,3,4,4,4,4,4,6,4,5,4,4,4,7,6,3,4,4,3,3,3,5,4,4,3,5,3,5,4,4,3,6,7,4,3,5,4,4,4,4,4,7,5,4,3,4,4,4,5,7,3,5,5,3,3,4,5,4,4,3,7,3,3,4,3,6,5,3,4,5,3,3,4,4,5,3,3,3,4,4,6,6,7,4,4,4,3,4,3,8,4,4,7,9,3,6,4,6,8,6,4,5,6,5,5,6,7,3,4,3,3,3,4,4,4,4,5,5,4,4,4,3,4,5,4,3,3,3,4,4,4,5,3,4,3,4,3,3,8,9,4,4,4,4,4,4,5,5,5,3,4,3,7,4,5,6,5,4,4,4,5,3,4,5,9,3,3,3,4,4,3,8,6,6,5,3,4,4,5,7,3,4,5,3,8,3,3,3,3,7,3,3,4,4,4,4,4,3,4,5,3,5,4,4,4,4,5,4,4,3,5,4,5,6,4,6,5,5,3,5,3,3,8,4,5,6,4,3,4,4,5,5,3,6,3,3,4,6,6,3,6,3,3,6,5,5,4,7,4,4,3,3,4,3,3,4,5,6,5,3,5,5,4,3,3,8,7,3,4,4,6,4,3,4,8,5,7,5,4,3,4,3,4,8,4,3,3,5,3,4,5,3,4,4,3,4,5,4,3,5,3,3,6,4,6,3,4,4,4,3,3,5,3,4,4,6,3,3,4,4,4,5,3,4,4,4,5,3,4,3,6,4,4,4,4,7,8,4,5,3,4,4,4,4,6,8,3,4,4,5,5,6,4,3,4,4,4,3,3,3,3,4,3,4,4,7,9,5,3,3,4,7,4,5,3,6,8,3,4,4,3,7,5,5,3,4,5,4,4,4,4,3,6,3,5,5,4,5,4,4,4,3,7,5,3,3,4,4,9,3,5,5,5,3,4,3,3,3,5,3,5,3,4,4,4,8,3,6,4,7,4,6,4,3,4,4,4,4,4,3,5,6,3,4,4,7,3,6,4,5,4,5,4,4,5,5,4,3,5,5,3,3,4,3,4,8,3,7,6,4,4,4,4,4,3,6,3,4,4,5,4,3,5,4,6,4,7,3,4,3,4,3,3,4,4,6,5,4,3,3,4,5,3,3,3,3,5,5,3,4,3,4,5,3,3,6,5,3,3,5,6,5,6,5,5,3,4,4,7,6,4,3,6,6,4,4,3,6,6,4,6,5,4,3,3,7,6,3,4,5,5,5,3,4,6,4,3,             count is 892\n"
     ]
    }
   ],
   "source": [
    "\n",
    "import csv\n",
    "with open(\"C:\\\\Users\\\\Sahil\\\\Desktop\\\\Computer-Vision-with-Python\\\\train.csv\", newline='') as csvfile:\n",
    "    \n",
    "    reader = csv.reader(csvfile, delimiter=' ', quotechar='|')\n",
    "    count=0\n",
    "    for row in reader:\n",
    "        print(len(row),end=',')\n",
    "        count+=1\n",
    "\n",
    "    print(' count is {}'.format(count),end='\\n')"
   ]
  },
  {
   "cell_type": "code",
   "execution_count": null,
   "metadata": {},
   "outputs": [],
   "source": [
    "csv.writer(csvfile, dialect='excel', **fmtparams)\n",
    "csvfile can be any object with a write() method. If csvfile is a file object\n",
    ", it should be opened with newline=''.\n",
    "An optional dialect parameter can be given which is used to define a set of \n",
    "parameters specific to a particular CSV dialect.\n",
    "\n",
    "The other optional fmtparams keyword arguments can be given to override individual \n",
    "formatting parameters in the current dialect."
   ]
  },
  {
   "cell_type": "code",
   "execution_count": 32,
   "metadata": {},
   "outputs": [],
   "source": [
    "with open('test.csv', 'w', newline='') as csvfile:\n",
    "    spamwriter = csv.writer(csvfile, delimiter=' ',\n",
    "                            quotechar='|', quoting=csv.QUOTE_MINIMAL)"
   ]
  },
  {
   "cell_type": "code",
   "execution_count": null,
   "metadata": {},
   "outputs": [],
   "source": [
    "3. In what modes can File artefacts for readers and writers be opened?\n",
    "At first, the CSV file is opened using the open() method in ‘r’ mode(specifies read \n",
    "mode while opening a file) which returns the file object then it is read by using the \n",
    "reader() method of CSV module that returns the reader object that iterates throughout the lines \n",
    "in the specified CSV document.\n",
    "\n",
    "import csv\n",
    "with open(\"C:\\\\Users\\\\Sahil\\\\Desktop\\\\Computer-Vision-with-Python\\\\train.csv\", newline='') as csvfile:\n",
    "    \n",
    "    reader = csv.reader(csvfile, delimiter=' ', quotechar='|')"
   ]
  },
  {
   "cell_type": "code",
   "execution_count": null,
   "metadata": {},
   "outputs": [],
   "source": [
    "We can open writer file in write mode as shown:\n",
    "    "
   ]
  },
  {
   "cell_type": "code",
   "execution_count": 35,
   "metadata": {},
   "outputs": [],
   "source": [
    "with open('test.csv', 'w', newline='') as csvfile:\n",
    "    spamwriter = csv.writer(csvfile, delimiter=' ',\n",
    "                            quotechar='|', quoting=csv.QUOTE_MINIMAL)\n",
    "    \n",
    "'x' for creating and writing to a new file, and 'a' for appending can be used as mode in python files.\n"
   ]
  },
  {
   "cell_type": "code",
   "execution_count": null,
   "metadata": {},
   "outputs": [],
   "source": [
    "Which method outputs a CSV file from a list argument?\n",
    "\n",
    "Method to write data from a list to CSV file is the writerow() method of writer and DictWriter class.\n",
    "The writerow() method for Writer objects takes a list argument. Each value in the list is placed in \n",
    "its own cell in the output CSV file. The return value of writerow() is the number of characters \n",
    "written to the file for that row (including newline characters).\n",
    " "
   ]
  },
  {
   "cell_type": "code",
   "execution_count": 74,
   "metadata": {},
   "outputs": [],
   "source": [
    "import csv\n",
    "data1=[['hey25'],['you','yes','you'],['there']]\n",
    "data2=[['are'],['you'],['there']]\n",
    "file=open('hyt.csv','w',newline='')\n",
    "with file:\n",
    "    \n",
    "   \n",
    "    csv.writer(file).writerows(data1)\n",
    "    csv.writer(file).writerows(data2)"
   ]
  },
  {
   "cell_type": "code",
   "execution_count": 75,
   "metadata": {},
   "outputs": [
    {
     "name": "stdout",
     "output_type": "stream",
     "text": [
      "hey25\r\n",
      "you,yes,you\r\n",
      "there\r\n",
      "are\r\n",
      "you\r\n",
      "there\r\n",
      "\n"
     ]
    }
   ],
   "source": [
    "#pd.read_csv(\"C:\\\\Users\\\\Sahil\\\\Downloads\\\\hyt.csv\")\n",
    "file=open('hyt.csv','r',newline='')\n",
    "print(file.read())"
   ]
  },
  {
   "cell_type": "code",
   "execution_count": null,
   "metadata": {},
   "outputs": [],
   "source": [
    "5. What do the keyword arguments delimiter and lineterminator do?\n",
    "The delimiter is the character that appears between cells on a row. \n",
    "By default, the delimiter for a CSV file is a comma. The line terminator\n",
    "is the character that comes at the end of a row. By default, the line \n",
    "terminator is a newline. You can change characters to different values by \n",
    "using the delimiter and lineterminator keyword arguments with csv.writer()."
   ]
  },
  {
   "cell_type": "code",
   "execution_count": 95,
   "metadata": {},
   "outputs": [],
   "source": [
    "import csv\n",
    "data1=[['how'],['are','you','doing'],['I','am','great'],['see you soon']]\n",
    "file=open('newfile.csv','w',newline='')\n",
    "with file:\n",
    "    \n",
    "    csv.writer(file,delimiter='*',lineterminator='#\\n\\n').writerows(data1)"
   ]
  },
  {
   "cell_type": "code",
   "execution_count": 96,
   "metadata": {},
   "outputs": [
    {
     "name": "stdout",
     "output_type": "stream",
     "text": [
      "how#\n",
      "\n",
      "are*you*doing#\n",
      "\n",
      "I*am*great#\n",
      "\n",
      "see you soon#\n",
      "\n",
      "\n"
     ]
    }
   ],
   "source": [
    "file=open('newfile.csv','r',newline='')\n",
    "print(file.read())"
   ]
  },
  {
   "cell_type": "code",
   "execution_count": 99,
   "metadata": {},
   "outputs": [
    {
     "ename": "SyntaxError",
     "evalue": "invalid syntax (<ipython-input-99-f3a2b2778675>, line 2)",
     "output_type": "error",
     "traceback": [
      "\u001b[1;36m  File \u001b[1;32m\"<ipython-input-99-f3a2b2778675>\"\u001b[1;36m, line \u001b[1;32m2\u001b[0m\n\u001b[1;33m    To translate a string containing JSON data into a Python value, pass it to\u001b[0m\n\u001b[1;37m       ^\u001b[0m\n\u001b[1;31mSyntaxError\u001b[0m\u001b[1;31m:\u001b[0m invalid syntax\n"
     ]
    }
   ],
   "source": [
    "6. What function returns a Python data structure from a string of JSON data?\n",
    "To translate a string containing JSON data into a Python value, pass it to \n",
    "the json.loads() function. \n"
   ]
  },
  {
   "cell_type": "code",
   "execution_count": 100,
   "metadata": {},
   "outputs": [
    {
     "name": "stdout",
     "output_type": "stream",
     "text": [
      "{'name': 'elephant', 'where': 'karnataka', 'age': 10} <class 'dict'>\n"
     ]
    }
   ],
   "source": [
    "jsondata = '{\"name\": \"elephant\", \"where\": \"karnataka\", \"age\": 10}'\n",
    "\n",
    "import json\n",
    "json.loads(jsondata)\n",
    "x=json.loads(jsondata)\n",
    "print(x,type(x))\n"
   ]
  },
  {
   "cell_type": "code",
   "execution_count": null,
   "metadata": {},
   "outputs": [],
   "source": [
    "After you import the json module, you can call loads() and pass it a string of JSON data. \n",
    "Note that JSON strings always use double quotes. It will return that data as a Python \n",
    "dictionary. Python dictionaries are not ordered, so the key-value pairs may appear in a \n",
    "different order when you print x."
   ]
  },
  {
   "cell_type": "code",
   "execution_count": null,
   "metadata": {},
   "outputs": [],
   "source": [
    "7. What function returns a string of JSON data from a Python data structure?\n",
    "The json.dumps() function  will translate a \n",
    "Python value into a string of JSON-formatted data. \n",
    "The value can only be one of the following basic Python data types: dictionary, list, integer, float, \n",
    "string, Boolean, or None."
   ]
  },
  {
   "cell_type": "code",
   "execution_count": 114,
   "metadata": {},
   "outputs": [
    {
     "data": {
      "text/plain": [
       "'\"sahil\"'"
      ]
     },
     "execution_count": 114,
     "metadata": {},
     "output_type": "execute_result"
    }
   ],
   "source": [
    "pythonValue = {'isCat': True, 'miceCaught': 0, 'name': 'Zophie',\n",
    "'felineIQ': None}\n",
    "pythonvalue2=[5,6,8,9]\n",
    "pythonvalue3=(4,5,6,8,9)\n",
    "pythonvalue4=\"sahil\"\n",
    "import json\n",
    "JsonData = json.dumps(pythonvalue4)\n",
    "JsonData\n",
    "\n"
   ]
  },
  {
   "cell_type": "code",
   "execution_count": null,
   "metadata": {},
   "outputs": [],
   "source": []
  },
  {
   "cell_type": "code",
   "execution_count": null,
   "metadata": {},
   "outputs": [],
   "source": []
  }
 ],
 "metadata": {
  "kernelspec": {
   "display_name": "Python 3",
   "language": "python",
   "name": "python3"
  },
  "language_info": {
   "codemirror_mode": {
    "name": "ipython",
    "version": 3
   },
   "file_extension": ".py",
   "mimetype": "text/x-python",
   "name": "python",
   "nbconvert_exporter": "python",
   "pygments_lexer": "ipython3",
   "version": "3.8.3"
  }
 },
 "nbformat": 4,
 "nbformat_minor": 4
}
